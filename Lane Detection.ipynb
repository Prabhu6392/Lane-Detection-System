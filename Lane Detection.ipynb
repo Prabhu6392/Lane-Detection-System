{
 "cells": [
  {
   "cell_type": "code",
   "execution_count": 1,
   "id": "46f42b51",
   "metadata": {},
   "outputs": [],
   "source": [
    "import cv2\n",
    "import numpy as np\n",
    "import matplotlib.pyplot as plt"
   ]
  },
  {
   "cell_type": "code",
   "execution_count": 10,
   "id": "741ba3ba",
   "metadata": {},
   "outputs": [],
   "source": [
    "video_path = 'road_-_80395 (1080p).mp4'  # Replace with your video file path"
   ]
  },
  {
   "cell_type": "code",
   "execution_count": 11,
   "id": "e86162a5",
   "metadata": {},
   "outputs": [],
   "source": [
    "def detect_lanes(video_path):\n",
    "    cap = cv2.VideoCapture(video_path)\n",
    "\n",
    "    while cap.isOpened():\n",
    "        ret, frame = cap.read()\n",
    "\n",
    "        if not ret:\n",
    "            break\n",
    "\n",
    "        # Convert the frame to grayscale\n",
    "        gray = cv2.cvtColor(frame, cv2.COLOR_BGR2GRAY)\n",
    "\n",
    "        # Apply Gaussian blur to reduce noise and improve edge detection\n",
    "        blur = cv2.GaussianBlur(gray, (5, 5), 0)\n",
    "\n",
    "        # Use Canny edge detection to detect edges in the image\n",
    "        edges = cv2.Canny(blur, 50, 150)\n",
    "\n",
    "        # Define a region of interest (ROI) mask to focus on the lane area\n",
    "        height, width = edges.shape\n",
    "        roi_vertices = [\n",
    "            (0, height),\n",
    "            (width / 2, height / 2),\n",
    "            (width, height),\n",
    "        ]\n",
    "        roi_mask = np.zeros_like(edges)\n",
    "        cv2.fillPoly(roi_mask, [np.array(roi_vertices, np.int32)], 255)\n",
    "        masked_edges = cv2.bitwise_and(edges, roi_mask)\n",
    "\n",
    "        # Use the Hough Transform to detect lines in the image\n",
    "        lines = cv2.HoughLinesP(masked_edges, 1, np.pi / 180, threshold=50, minLineLength=100, maxLineGap=50)\n",
    "\n",
    "        # Draw the detected lines on the original frame\n",
    "        line_image = np.copy(frame)\n",
    "        if lines is not None:\n",
    "            for line in lines:\n",
    "                x1, y1, x2, y2 = line[0]\n",
    "                cv2.line(line_image, (x1, y1), (x2, y2), (0, 255, 0), 2)\n",
    "\n",
    "        # Display the result\n",
    "        cv2.imshow('Lane Detection', line_image)\n",
    "\n",
    "        if cv2.waitKey(1) & 0xFF == ord('q'):\n",
    "            break\n",
    "\n",
    "    cap.release()\n",
    "    cv2.destroyAllWindows()"
   ]
  },
  {
   "cell_type": "code",
   "execution_count": 13,
   "id": "5c20b1d6",
   "metadata": {},
   "outputs": [],
   "source": [
    "detect_lanes(video_path)"
   ]
  },
  {
   "cell_type": "code",
   "execution_count": null,
   "id": "45d34cac",
   "metadata": {},
   "outputs": [],
   "source": []
  }
 ],
 "metadata": {
  "kernelspec": {
   "display_name": "Python 3 (ipykernel)",
   "language": "python",
   "name": "python3"
  },
  "language_info": {
   "codemirror_mode": {
    "name": "ipython",
    "version": 3
   },
   "file_extension": ".py",
   "mimetype": "text/x-python",
   "name": "python",
   "nbconvert_exporter": "python",
   "pygments_lexer": "ipython3",
   "version": "3.10.8"
  }
 },
 "nbformat": 4,
 "nbformat_minor": 5
}
